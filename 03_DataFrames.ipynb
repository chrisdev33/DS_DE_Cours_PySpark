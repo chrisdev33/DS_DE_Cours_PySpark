{
 "cells": [
  {
   "cell_type": "markdown",
   "id": "3c506b38-9536-4094-bab8-43fb87a8cb52",
   "metadata": {},
   "source": [
    "Traitement de données massives avec Pyspark\n",
    "========\n",
    "DataFrames\n",
    "--------\n",
    "- - - -"
   ]
  },
  {
   "cell_type": "markdown",
   "id": "2a7ed888-3cc5-42b9-8eb9-c0fc816140e4",
   "metadata": {},
   "source": [
    "La structure RDD n'est pas optimisée pour effectuer des tâches par colonne ou du Machine Learning. La structure DataFrame a été créé pour répondre à ce besoin. Elle utilise de façon sous-jacente les bases d'un RDD mais a été structurée en colonnes autant qu'en lignes dans une structure SQL et une forme inspirée des DataFrame du module __pandas__.\n",
    "\n",
    "La structure DataFrame possède deux grands avantages. Tout d'abord cette structure est similaire au DataFrame __pandas__ et est donc facile à prendre en main. Elle est également performante : un DataFrame en __PySpark__ est aussi rapide qu'un DataFrame en __Scala__ et est la structure distribuée la plus optimisée en Machine Learning. Grâce à la structure DataFrame, nous pouvons donc faire des calculs performants à travers un langage familier, en évitant le coût d'entrée d'apprentissage d'un nouveau langage fonctionnel : __Scala__.\n",
    "\n",
    "Dans cet exercice, vous apprendrez à manipuler un DataFrame __PySpark__ pour explorer les données."
   ]
  },
  {
   "cell_type": "markdown",
   "id": "711b01f8-5cd7-46aa-ad46-1c32ac39491a",
   "metadata": {},
   "source": [
    "## 1. Spark SQL"
   ]
  },
  {
   "cell_type": "markdown",
   "id": "e83b4c70-cbfa-4394-91e6-e3ae4f35a5bf",
   "metadata": {},
   "source": [
    "__Spark SQL__ est un module de Spark qui permet de travailler sur des données structurées. C'est donc au sein de ce module qu'a été développé le DataFrame de Spark et __Spark SQL__ vient se rajouter à Spark pour y apporter de nombreux éléments de structure. En particulier, il introduit la notion de <code>SparkSession</code>, originellement le point d'entrée de __Spark SQL__, mais qui est devenu le point d'entrée unifié de Spark.\n",
    "\n",
    "* __(a)__ Exécuter la cellule ci-dessous pour construire la <code>SparkSession</code> de l'exercice"
   ]
  },
  {
   "cell_type": "code",
   "execution_count": 1,
   "id": "e17d3acb-d214-46a0-847d-eea27a462421",
   "metadata": {},
   "outputs": [
    {
     "data": {
      "text/html": [
       "\n",
       "            <div>\n",
       "                <p><b>SparkSession - in-memory</b></p>\n",
       "                \n",
       "        <div>\n",
       "            <p><b>SparkContext</b></p>\n",
       "\n",
       "            <p><a href=\"http://756cab201f2c:4040\">Spark UI</a></p>\n",
       "\n",
       "            <dl>\n",
       "              <dt>Version</dt>\n",
       "                <dd><code>v3.2.1</code></dd>\n",
       "              <dt>Master</dt>\n",
       "                <dd><code>local[*]</code></dd>\n",
       "              <dt>AppName</dt>\n",
       "                <dd><code>pyspark-shell</code></dd>\n",
       "            </dl>\n",
       "        </div>\n",
       "        \n",
       "            </div>\n",
       "        "
      ],
      "text/plain": [
       "<pyspark.sql.session.SparkSession at 0x7fe5069d8f70>"
      ]
     },
     "execution_count": 1,
     "metadata": {},
     "output_type": "execute_result"
    }
   ],
   "source": [
    "# Import de Spark Session et SparkContext\n",
    "from pyspark.sql import SparkSession\n",
    "from pyspark import SparkContext\n",
    "\n",
    "# Définition d'un SparkContext\n",
    "SparkContext.getOrCreate() \n",
    "\n",
    "# Définition d'une SparkSession\n",
    "spark = SparkSession \\\n",
    "    .builder \\\n",
    "    .master(\"local\") \\\n",
    "    .appName(\"Introduction au DataFrame\") \\\n",
    "    .getOrCreate()\n",
    "\n",
    "spark"
   ]
  },
  {
   "cell_type": "markdown",
   "id": "f5b3cfe4-7916-459a-b340-01a8dfac36c3",
   "metadata": {},
   "source": [
    "Deux options ont été mises en place dans la construction de la <code>SparkSession</code> :\n",
    "* La méthode <code>appName</code> qui permet de donner à la <code>SparkSession</code> un nom pour connaître l'environnement de travail.\n",
    "* La méthode <code>getOrCreate</code> qui permet d'utiliser la session en cours si une session est déjà ouverte.\n",
    "\n",
    "En effet, cette dernière est importante car il n'est pas possible d'ouvrir deux sessions sur une seule machine.<br>\n",
    "Le nom sert surtout d'indicateur pour connaître la session en cours : si une session existe déjà, elle ne sera pas renommée et affichera l'ancien nom.<br>\n",
    "<code>SparkSession</code> est une couche supérieure à <code>SparkContext</code>. Ce dernier est avantageux car il permet de travailler avec des RDD.\n",
    "\n",
    "* __(b)__ Exécuter la cellule ci-dessous pour créer un raccourci vers le <code>SparkContext</code> déjà créé."
   ]
  },
  {
   "cell_type": "code",
   "execution_count": 2,
   "id": "fed2d7e6-6cfb-4c72-82f1-a1ac7f541036",
   "metadata": {},
   "outputs": [
    {
     "data": {
      "text/html": [
       "\n",
       "        <div>\n",
       "            <p><b>SparkContext</b></p>\n",
       "\n",
       "            <p><a href=\"http://756cab201f2c:4040\">Spark UI</a></p>\n",
       "\n",
       "            <dl>\n",
       "              <dt>Version</dt>\n",
       "                <dd><code>v3.2.1</code></dd>\n",
       "              <dt>Master</dt>\n",
       "                <dd><code>local[*]</code></dd>\n",
       "              <dt>AppName</dt>\n",
       "                <dd><code>pyspark-shell</code></dd>\n",
       "            </dl>\n",
       "        </div>\n",
       "        "
      ],
      "text/plain": [
       "<SparkContext master=local[*] appName=pyspark-shell>"
      ]
     },
     "execution_count": 2,
     "metadata": {},
     "output_type": "execute_result"
    }
   ],
   "source": [
    "# Création d'un raccourci vers le SparkContext déjà créé\n",
    "sc = SparkContext.getOrCreate()\n",
    "sc"
   ]
  },
  {
   "cell_type": "markdown",
   "id": "760215fa-0917-4437-844a-922ce2e36552",
   "metadata": {},
   "source": [
    "<div class=\"alert alert-success\">\n",
    "Spark SQL possède une documentation https://spark.apache.org/docs/2.4.0/api/python/pyspark.sql.html en une seule page (idéale pour faire des recherches automatiques à l'aide de CTRL+F) assez riche et qui propose des exemples en plus des explications. Contrairement à ce que vous pouvez trouver sur internet, cette documentation est le seul document régulièrement mis à jour avec la dernière version de Spark.\n",
    "</div>"
   ]
  },
  {
   "cell_type": "markdown",
   "id": "ca631288-8244-48be-8255-3bbf0d36dcfa",
   "metadata": {},
   "source": [
    "## 2. Créer un DataFrame Spark"
   ]
  },
  {
   "cell_type": "markdown",
   "id": "a671a1df-d261-4630-beff-9fd32f96f6af",
   "metadata": {},
   "source": [
    "### 2.1. Créer Un DataFrame à partir d'un RDD"
   ]
  },
  {
   "cell_type": "markdown",
   "id": "790df26b-2534-437f-81ef-4bbd52a435d8",
   "metadata": {},
   "source": [
    "La structure DataFrame a été implémentée par __Spark SQL__, le module __Spark__ pour le traitement de données structurées. Dans sa forme, c'est tout simplement un RDD dont chaque ligne est un <code>Row</code>. Les <code>Rows</code> permettent de donner des noms à chacune des colonnes pour insérer une structure supplémentaire à la donnée.\n",
    "\n",
    "Par exemple, pour un RDD nommé rdd contenant deux éléments sur chaque ligne, le nom d'un individu et son âge, il est possible d'appliquer sur chaque ligne le constructeur de la classe Row en donnant un nom à chaque variable.\n",
    "\n",
    "La création d'un DataFrame à partir d'un rdd se fait en appliquant la méthode createDataFrame de SparkContext.\n",
    "\n",
    "__Exemple : Créer un DataFrame à partir d'un RDD__\n",
    "```python\n",
    "rdd_row = rdd.map(lambda line: Row(name = line[0], age = line[1]))\n",
    "df = spark.createDataFrame(rdd_row)\n",
    "```\n",
    "\n",
    "* __(a)__ Importer la classe <code>Row</code> à partir du module __pyspark.sql__.\n",
    "* __(b)__ Importer la base de données <code>2008_raw.csv</code>.\n",
    "* __(c)__ Créer un __rdd__ à partir de cette base de données.\n",
    "* __(d)__ Créer un __rdd_row__ à l'aide de la méthode <code>map</code> en appliquant sur chaque ligne la structure Row avec les variables explicatives annee, mois, jours et flightNum.\n",
    "* __(e)__ Créer un DataFrame __df__ à partir de __rdd_row__."
   ]
  },
  {
   "cell_type": "code",
   "execution_count": 3,
   "id": "9c65d872-14f6-4ce8-a5ff-4c1f18f5c204",
   "metadata": {},
   "outputs": [],
   "source": [
    "# Import de Row du package pyspark.sql\n",
    "from pyspark.sql import Row\n",
    "\n",
    "# Chargement du fichier '2008_raw.csv'\n",
    "rdd = sc.textFile('data/2008_raw.csv').map(lambda line: line.split(\",\"))\n",
    "\n",
    "# Création d'un nouveau RDD en sélectionnant les variables explicatives\n",
    "rdd_row = rdd.map(lambda line: Row(annee = line[0],\n",
    "                                   mois = line[1],\n",
    "                                   jours = line[2],\n",
    "                                   flightNum = line[5]))\n",
    "\n",
    "# Créer d'un data frame à partir d'un rdd\n",
    "df = spark.createDataFrame(rdd_row)"
   ]
  },
  {
   "cell_type": "markdown",
   "id": "2206c5e7-b260-4523-bc27-f4f971a35406",
   "metadata": {},
   "source": [
    "Il est important de savoir afficher quelques lignes d'un DataFrame pour vérifier que le tableau de données est bien construit. De plus, il est pertinent d'utiliser la méthode <code>show(n)</code> qui affiche de façon claire les n premières lignes du DataFrame.\n",
    "\n",
    "<div class=\"alert alert-success\">\n",
    "Il est possible d'exécuter la méthode take qui affiche les n premières lignes en revenant sous la forme d'un RDD de Rows peu lisible.\n",
    "</div>\n",
    "\n",
    "* __(f)__ Afficher les 5 premières lignes de df"
   ]
  },
  {
   "cell_type": "code",
   "execution_count": 4,
   "id": "58916f69-695d-48ce-aad3-4d7cef7e1058",
   "metadata": {},
   "outputs": [
    {
     "name": "stdout",
     "output_type": "stream",
     "text": [
      "+-----+----+-----+---------+\n",
      "|annee|mois|jours|flightNum|\n",
      "+-----+----+-----+---------+\n",
      "| 2008|   1|    1|     2052|\n",
      "| 2008|   1|    1|      715|\n",
      "| 2008|   1|    1|     1846|\n",
      "| 2008|   1|    1|     2300|\n",
      "| 2008|   1|    1|     1221|\n",
      "+-----+----+-----+---------+\n",
      "only showing top 5 rows\n",
      "\n"
     ]
    }
   ],
   "source": [
    "# Affichage des 5 premières lignes\n",
    "df.show(5)"
   ]
  },
  {
   "cell_type": "markdown",
   "id": "c7489d18-4e5d-4911-ac0f-43d6850971ca",
   "metadata": {},
   "source": [
    "<div class=\"alert alert-info\">\n",
    "Créer un DataFrame à partir d'un RDD est théorique et permet de comprendre la structure sous-jacente. En général, la création d'un DataFrame se fait en une seule ligne en important un fichier CSV.\n",
    "</div>"
   ]
  },
  {
   "cell_type": "markdown",
   "id": "62aa0e1f-0cd4-4a67-998d-1473cf32c620",
   "metadata": {},
   "source": [
    "### 2.2. Créer un DataFrame à partir d'un fichier CSV"
   ]
  },
  {
   "cell_type": "markdown",
   "id": "0d6a7898-d81c-45e8-89d5-9a43cd40a3a0",
   "metadata": {},
   "source": [
    "La fonction <code>read.csv</code> de __SparkSession__ permet de créer un DataFrame à partir d'un fichier CSV. Cette fonction permet de spécifier s'il existe une première ligne contenant les noms de variables en utilisant l'option <code>header</code> :\n",
    "```python\n",
    "header = True   # Cet argument signifie que le DataFrame contient une première \n",
    "                # ligne contenant les noms des variables\n",
    "```\n",
    "\n",
    "* __(g)__ Importer la base de données 2008.csv avec le header dans un DataFrame __raw_df__."
   ]
  },
  {
   "cell_type": "code",
   "execution_count": 5,
   "id": "ef85a9e6-69c9-4aa2-b4da-a379e07bb8eb",
   "metadata": {},
   "outputs": [
    {
     "name": "stdout",
     "output_type": "stream",
     "text": [
      "+-----+----+-----+-----+-------------+---------+-------+------+----+--------+--------+----------------+--------+------------+------------+--------+-------------+-----------------+\n",
      "|annee|mois|jours|heure|uniqueCarrier|flightNum|tailNum|origin|dest|distance|canceled|cancellationCode|diverted|carrierDelay|weatherDelay|nasDelay|securityDelay|lateAircraftDelay|\n",
      "+-----+----+-----+-----+-------------+---------+-------+------+----+--------+--------+----------------+--------+------------+------------+--------+-------------+-----------------+\n",
      "| 2008|   1|    1| 2057|           AS|      324| N306AS|   SEA| SJC|     697|       0|            null|       0|          NA|          NA|      NA|           NA|               NA|\n",
      "| 2008|   1|    1|  703|           AS|      572| N302AS|   SEA| PSP|     987|       0|            null|       0|          NA|          NA|      NA|           NA|               NA|\n",
      "| 2008|   1|    1| 2011|           AS|      511| N564AS|   SAN| SEA|    1050|       0|            null|       0|           0|           0|       0|            0|               63|\n",
      "| 2008|   1|    1| 2301|           AS|      376| N309AS|   SEA| GEG|     224|       0|            null|       0|          NA|          NA|      NA|           NA|               NA|\n",
      "| 2008|   1|    1| 1221|           AS|      729| N317AS|   TUS| SEA|    1216|       0|            null|       0|          NA|          NA|      NA|           NA|               NA|\n",
      "+-----+----+-----+-----+-------------+---------+-------+------+----+--------+--------+----------------+--------+------------+------------+--------+-------------+-----------------+\n",
      "only showing top 5 rows\n",
      "\n"
     ]
    }
   ],
   "source": [
    "# Lecture du fichier '2008.csv'\n",
    "raw_df = spark.read.csv('data/2008.csv', header=True)\n",
    "raw_df.show(5)"
   ]
  },
  {
   "cell_type": "markdown",
   "id": "6aaaa3b8-075b-48e1-a418-e4bfe8c1a562",
   "metadata": {},
   "source": [
    "La méthode <code>printSchema</code> permet d'obtenir le schéma des variables (noms des colonnes et types inférés), afin de vérifier si les données ont été bien enregistrées.\n",
    "\n",
    "* __(h)__ Afficher le schéma du DataFrame __raw_df__."
   ]
  },
  {
   "cell_type": "code",
   "execution_count": 6,
   "id": "9d6a76c8-e9ce-4d64-b466-11a3fb35957b",
   "metadata": {},
   "outputs": [
    {
     "name": "stdout",
     "output_type": "stream",
     "text": [
      "root\n",
      " |-- annee: string (nullable = true)\n",
      " |-- mois: string (nullable = true)\n",
      " |-- jours: string (nullable = true)\n",
      " |-- heure: string (nullable = true)\n",
      " |-- uniqueCarrier: string (nullable = true)\n",
      " |-- flightNum: string (nullable = true)\n",
      " |-- tailNum: string (nullable = true)\n",
      " |-- origin: string (nullable = true)\n",
      " |-- dest: string (nullable = true)\n",
      " |-- distance: string (nullable = true)\n",
      " |-- canceled: string (nullable = true)\n",
      " |-- cancellationCode: string (nullable = true)\n",
      " |-- diverted: string (nullable = true)\n",
      " |-- carrierDelay: string (nullable = true)\n",
      " |-- weatherDelay: string (nullable = true)\n",
      " |-- nasDelay: string (nullable = true)\n",
      " |-- securityDelay: string (nullable = true)\n",
      " |-- lateAircraftDelay: string (nullable = true)\n",
      "\n"
     ]
    }
   ],
   "source": [
    "# Affichage du schéma des variables\n",
    "raw_df.printSchema()"
   ]
  },
  {
   "cell_type": "markdown",
   "id": "0f4da35e-5b96-4f1e-a32d-c5f9c23a275f",
   "metadata": {},
   "source": [
    "<div class=\"alert alert-warning\">\n",
    " Spark SQL n'infère pas correctement le type des variables : toutes sont considérées de type string ce qui gêne une partie des calculs, notamment en termes d'exploration de données. Afin de faire des calculs ou d'explorer les données, il est nécessaire de changer le type de certaines colonnes.\n",
    "</div>"
   ]
  },
  {
   "cell_type": "markdown",
   "id": "cc83e68a-12f0-4ce9-ab3e-296e4f6289a1",
   "metadata": {},
   "source": [
    "## 3. Explorer et manipuler un DataFrame"
   ]
  },
  {
   "cell_type": "markdown",
   "id": "fdc74ce9-49a9-49dd-be50-08d3c8914666",
   "metadata": {},
   "source": [
    "Maintenant que les données sont dans un <code>DataFrame</code>, il est possible d'effectuer de nombreuses transformations similaires au langage SQL. Pour sélectionner les variables, il faut utiliser la méthode <code>select</code>.\n",
    "\n",
    "__Exemple : Sélection des variables name et age__\n",
    "```python\n",
    "new_df = df.select('name','age')\n",
    "```\n",
    "\n",
    "* __(a)__ Créer <code>flights1</code> un <code>DataFrame</code> contenant uniquement les variables : <code>'annee', 'mois', 'jours', 'flightNum', 'origin', 'dest', 'distance', 'canceled', 'cancellationCode', 'carrierDelay'</code>.\n",
    "* __(b)__ Afficher les 20 premières lignes de <code>flights1</code>."
   ]
  },
  {
   "cell_type": "code",
   "execution_count": 7,
   "id": "ef1e2cac-dc16-4706-a8f6-9bfad148be2e",
   "metadata": {},
   "outputs": [
    {
     "name": "stdout",
     "output_type": "stream",
     "text": [
      "+-----+----+-----+---------+------+----+--------+--------+----------------+------------+\n",
      "|annee|mois|jours|flightNum|origin|dest|distance|canceled|cancellationCode|carrierDelay|\n",
      "+-----+----+-----+---------+------+----+--------+--------+----------------+------------+\n",
      "| 2008|   1|    1|      324|   SEA| SJC|     697|       0|            null|          NA|\n",
      "| 2008|   1|    1|      572|   SEA| PSP|     987|       0|            null|          NA|\n",
      "| 2008|   1|    1|      511|   SAN| SEA|    1050|       0|            null|           0|\n",
      "| 2008|   1|    1|      376|   SEA| GEG|     224|       0|            null|          NA|\n",
      "| 2008|   1|    1|      729|   TUS| SEA|    1216|       0|            null|          NA|\n",
      "| 2008|   1|    1|      283|   LAX| SEA|     954|       0|            null|          NA|\n",
      "| 2008|   1|    1|      211|   LAX| SEA|     954|       0|            null|          NA|\n",
      "| 2008|   1|    1|      100|   ANC| PDX|    1542|       0|            null|           0|\n",
      "| 2008|   1|    1|      665|   LAS| SEA|     866|       0|            null|          NA|\n",
      "| 2008|   1|    1|      531|   SJC| SEA|     697|       0|            null|          NA|\n",
      "| 2008|   1|    1|      571|   SEA| DEN|    1024|       0|            null|          22|\n",
      "| 2008|   1|    1|      154|   ANC| SEA|    1449|       1|               A|          NA|\n",
      "| 2008|   1|    1|      728|   SEA| TUS|    1216|       0|            null|          NA|\n",
      "| 2008|   1|    1|      518|   SEA| SAN|    1050|       0|            null|          92|\n",
      "| 2008|   1|    1|      580|   SEA| SAN|    1050|       0|            null|          21|\n",
      "| 2008|   1|    1|       85|   SEA| ANC|    1449|       0|            null|          NA|\n",
      "| 2008|   1|    1|      640|   SEA| LAS|     866|       0|            null|          NA|\n",
      "| 2008|   1|    1|      292|   SEA| LAX|     954|       0|            null|           0|\n",
      "| 2008|   1|    1|      478|   SEA| PSP|     987|       0|            null|          15|\n",
      "| 2008|   1|    1|      485|   LAX| SEA|     954|       0|            null|          NA|\n",
      "+-----+----+-----+---------+------+----+--------+--------+----------------+------------+\n",
      "only showing top 20 rows\n",
      "\n"
     ]
    }
   ],
   "source": [
    "# Création d'un data frame ne contenant que les variables explicatives\n",
    "flights1 = raw_df.select('annee', 'mois', 'jours', 'flightNum', 'origin', 'dest', 'distance', 'canceled', 'cancellationCode', 'carrierDelay')\n",
    "\n",
    "# Affichage de 20 premières lignes\n",
    "flights1.show() # 'show' affiche 20 lignes par défaut"
   ]
  },
  {
   "cell_type": "markdown",
   "id": "0fa63534-9135-427f-8fc6-fb18f65b9857",
   "metadata": {},
   "source": [
    "<div class=\"alert alert-success\">\n",
    "L'attribut columns permet d'obtenir une liste des variables. Par exemple : print(raw_df.columns) renvoie une liste complète des variables de df.\n",
    "</div>\n",
    "\n",
    "Spark SQL offre également la structure Columns. Cette structure s'obtient en tapant le nom d'une colonne comme attribut du DataFrame séparée par un point '.'.\n",
    "\n",
    "__Exemple : sélection des colonnes name et age__\n",
    "\n",
    "```python\n",
    "df.name\n",
    "df.age\n",
    "```\n",
    "\n",
    "Cette méthode de sélection de variables, certes plus lourde mais plus riche, offre une deuxième façon de sélectionner les variables.\n",
    "\n",
    "__Exemple : utilisation de select pour sélectionner des colonnes__\n",
    "\n",
    "```python\n",
    "new_df = df.select( df.name, df.age )\n",
    "```\n",
    "\n",
    "Cette structure est intéressante, en particulier grâce à la méthode cast des Columns. Cette méthode permet de spécifier un type particulier d'une colonne. Lors de l'affichage du schéma d'un DataFrame, toutes les variables sont considérées comme de type string, ce qui ne correspond pas toujours au type souhaité en pratique.\n",
    "\n",
    "__Exemple : cast pour changer le type__\n",
    "\n",
    "```python\n",
    "new_df = df.select(df.name.cast(\"string\"),\n",
    "                   df.age.cast(\"int\"))\n",
    "```\n",
    "\n",
    "* __(c)__ Créer le DataFrame flights avec les mêmes variables que fligths1 en spécifiant pour chaque colonne le type adapté.\n",
    "* __(d)__ Afficher les 20 premières lignes de flights."
   ]
  },
  {
   "cell_type": "code",
   "execution_count": 8,
   "id": "34d24e17-d389-4947-8e1e-36097fd3ded9",
   "metadata": {},
   "outputs": [
    {
     "name": "stdout",
     "output_type": "stream",
     "text": [
      "+-----+----+-----+---------+------+----+--------+--------+----------------+------------+\n",
      "|annee|mois|jours|flightNum|origin|dest|distance|canceled|cancellationCode|carrierDelay|\n",
      "+-----+----+-----+---------+------+----+--------+--------+----------------+------------+\n",
      "| 2008|   1|    1|      324|   SEA| SJC|     697|   false|            null|        null|\n",
      "| 2008|   1|    1|      572|   SEA| PSP|     987|   false|            null|        null|\n",
      "| 2008|   1|    1|      511|   SAN| SEA|    1050|   false|            null|           0|\n",
      "| 2008|   1|    1|      376|   SEA| GEG|     224|   false|            null|        null|\n",
      "| 2008|   1|    1|      729|   TUS| SEA|    1216|   false|            null|        null|\n",
      "| 2008|   1|    1|      283|   LAX| SEA|     954|   false|            null|        null|\n",
      "| 2008|   1|    1|      211|   LAX| SEA|     954|   false|            null|        null|\n",
      "| 2008|   1|    1|      100|   ANC| PDX|    1542|   false|            null|           0|\n",
      "| 2008|   1|    1|      665|   LAS| SEA|     866|   false|            null|        null|\n",
      "| 2008|   1|    1|      531|   SJC| SEA|     697|   false|            null|        null|\n",
      "| 2008|   1|    1|      571|   SEA| DEN|    1024|   false|            null|          22|\n",
      "| 2008|   1|    1|      154|   ANC| SEA|    1449|    true|               A|        null|\n",
      "| 2008|   1|    1|      728|   SEA| TUS|    1216|   false|            null|        null|\n",
      "| 2008|   1|    1|      518|   SEA| SAN|    1050|   false|            null|          92|\n",
      "| 2008|   1|    1|      580|   SEA| SAN|    1050|   false|            null|          21|\n",
      "| 2008|   1|    1|       85|   SEA| ANC|    1449|   false|            null|        null|\n",
      "| 2008|   1|    1|      640|   SEA| LAS|     866|   false|            null|        null|\n",
      "| 2008|   1|    1|      292|   SEA| LAX|     954|   false|            null|           0|\n",
      "| 2008|   1|    1|      478|   SEA| PSP|     987|   false|            null|          15|\n",
      "| 2008|   1|    1|      485|   LAX| SEA|     954|   false|            null|        null|\n",
      "+-----+----+-----+---------+------+----+--------+--------+----------------+------------+\n",
      "only showing top 20 rows\n",
      "\n"
     ]
    }
   ],
   "source": [
    "# Création d'un DataFrame en spécifiant le type des colonnes\n",
    "flights = raw_df.select(raw_df.annee.cast(\"int\"),\n",
    "                        raw_df.mois.cast(\"int\"),\n",
    "                        raw_df.jours.cast(\"int\"),\n",
    "                        raw_df.flightNum.cast(\"int\"),\n",
    "                        raw_df.origin.cast(\"string\"),\n",
    "                        raw_df.dest.cast(\"string\"),\n",
    "                        raw_df.distance.cast(\"int\"),\n",
    "                        raw_df.canceled.cast(\"boolean\"),\n",
    "                        raw_df.cancellationCode.cast(\"string\"),\n",
    "                        raw_df.carrierDelay.cast(\"int\"))\n",
    "\n",
    "# Affichage de 20 premières lignes\n",
    "flights.show()"
   ]
  },
  {
   "cell_type": "markdown",
   "id": "52a347af-254e-48c2-8a51-ee63d3562e18",
   "metadata": {},
   "source": [
    "<div class=\"alert alert-warning\">\n",
    "L'attribut columns permet d'obtenir une liste des variables. Par exemple : print(raw_df.columns) renvoie une liste complète des variables de df.\n",
    "</div>\n",
    "\n",
    "Comme pour les RDD, il est possible de compter le nombre de lignes grâce à la méthode count. La méthode distinct, appliquée à une seule variable, permet de filtrer tous les doublons.\n",
    "\n",
    "__Exemple : Compter le nombre de modalités d'une variable__\n",
    "\n",
    "```python\n",
    "df.select('age').distinct().count()\n",
    "```\n",
    "\n",
    "* __(e)__ Déterminer les numéros de vols distincts dans flights."
   ]
  },
  {
   "cell_type": "code",
   "execution_count": 9,
   "id": "0374f555-5c71-4b51-a2a4-d25cc2fed373",
   "metadata": {},
   "outputs": [
    {
     "data": {
      "text/plain": [
       "382"
      ]
     },
     "execution_count": 9,
     "metadata": {},
     "output_type": "execute_result"
    }
   ],
   "source": [
    "# Calcul du nombre de vols ayant des numéros de vol distincts\n",
    "flights.select('flightNum').distinct().count()"
   ]
  },
  {
   "cell_type": "markdown",
   "id": "ee4f69b3-bb31-44e6-9ead-3e92dd22fe7d",
   "metadata": {},
   "source": [
    "La méthode describe permet d'obtenir un résumé riche en informations pour un DataFrame. En effet, cette méthode génère un DataFrame qui s'affiche avec la méthode show.\n",
    "\n",
    "La méthode show possède une option truncate = n qui tronque les résultats au n-ième caractère. Cela permet notamment d'afficher correctement un tableau contenant trop de décimales.\n",
    "\n",
    "__Exemple : Affichage du résumé avec troncature__\n",
    "\n",
    "```python\n",
    "df.describe().show(truncate = 8)\n",
    "```\n",
    "\n",
    "* __(f)__ Afficher un résumé des données du DataFrame flights.\n",
    "* __(g)__ Tronquer les données de façon à ce que le DataFrame s'affiche correctement."
   ]
  },
  {
   "cell_type": "code",
   "execution_count": 10,
   "id": "44cc6d67-e1fa-4482-b79f-07e5abc510ee",
   "metadata": {},
   "outputs": [
    {
     "name": "stdout",
     "output_type": "stream",
     "text": [
      "+-------+------+--------+--------+---------+------+-----+--------+----------------+------------+\n",
      "|summary| annee|    mois|   jours|flightNum|origin| dest|distance|cancellationCode|carrierDelay|\n",
      "+-------+------+--------+--------+---------+------+-----+--------+----------------+------------+\n",
      "|  count| 16830|   16830|   16830|    16830| 16830|16830|   16830|             457|        3960|\n",
      "|   mean|2008.0|1.243...|13.38...| 354.7...|  null| null|923.4...|            null|    15.07...|\n",
      "| stddev|   0.0|0.429...|9.085...| 232.6...|  null| null|586.1...|            null|    38.19...|\n",
      "|    min|  2008|       1|       1|        1|   ADK|  ADK|      31|               A|           0|\n",
      "|    max|  2008|       2|      31|      954|   YAK|  YAK|    2846|               C|         664|\n",
      "+-------+------+--------+--------+---------+------+-----+--------+----------------+------------+\n",
      "\n"
     ]
    }
   ],
   "source": [
    "## Première méthode\n",
    "# Affichage d'un résumé en utilisant l'option truncate de la méthode show\n",
    "flights.describe().show(truncate = 8)"
   ]
  },
  {
   "cell_type": "code",
   "execution_count": 11,
   "id": "eef683a3-84d8-43d0-b94c-b6e8e3708528",
   "metadata": {},
   "outputs": [
    {
     "data": {
      "text/html": [
       "<div>\n",
       "<style scoped>\n",
       "    .dataframe tbody tr th:only-of-type {\n",
       "        vertical-align: middle;\n",
       "    }\n",
       "\n",
       "    .dataframe tbody tr th {\n",
       "        vertical-align: top;\n",
       "    }\n",
       "\n",
       "    .dataframe thead th {\n",
       "        text-align: right;\n",
       "    }\n",
       "</style>\n",
       "<table border=\"1\" class=\"dataframe\">\n",
       "  <thead>\n",
       "    <tr style=\"text-align: right;\">\n",
       "      <th></th>\n",
       "      <th>summary</th>\n",
       "      <th>annee</th>\n",
       "      <th>mois</th>\n",
       "      <th>jours</th>\n",
       "      <th>flightNum</th>\n",
       "      <th>origin</th>\n",
       "      <th>dest</th>\n",
       "      <th>distance</th>\n",
       "      <th>cancellationCode</th>\n",
       "      <th>carrierDelay</th>\n",
       "    </tr>\n",
       "  </thead>\n",
       "  <tbody>\n",
       "    <tr>\n",
       "      <th>0</th>\n",
       "      <td>count</td>\n",
       "      <td>16830</td>\n",
       "      <td>16830</td>\n",
       "      <td>16830</td>\n",
       "      <td>16830</td>\n",
       "      <td>16830</td>\n",
       "      <td>16830</td>\n",
       "      <td>16830</td>\n",
       "      <td>457</td>\n",
       "      <td>3960</td>\n",
       "    </tr>\n",
       "    <tr>\n",
       "      <th>1</th>\n",
       "      <td>mean</td>\n",
       "      <td>2008.0</td>\n",
       "      <td>1.2436720142602495</td>\n",
       "      <td>13.3825311942959</td>\n",
       "      <td>354.79304812834226</td>\n",
       "      <td>None</td>\n",
       "      <td>None</td>\n",
       "      <td>923.4129530600119</td>\n",
       "      <td>None</td>\n",
       "      <td>15.077272727272728</td>\n",
       "    </tr>\n",
       "    <tr>\n",
       "      <th>2</th>\n",
       "      <td>stddev</td>\n",
       "      <td>0.0</td>\n",
       "      <td>0.4293098121645594</td>\n",
       "      <td>9.08538688270527</td>\n",
       "      <td>232.68555546399764</td>\n",
       "      <td>None</td>\n",
       "      <td>None</td>\n",
       "      <td>586.1537061300132</td>\n",
       "      <td>None</td>\n",
       "      <td>38.19684314978276</td>\n",
       "    </tr>\n",
       "    <tr>\n",
       "      <th>3</th>\n",
       "      <td>min</td>\n",
       "      <td>2008</td>\n",
       "      <td>1</td>\n",
       "      <td>1</td>\n",
       "      <td>1</td>\n",
       "      <td>ADK</td>\n",
       "      <td>ADK</td>\n",
       "      <td>31</td>\n",
       "      <td>A</td>\n",
       "      <td>0</td>\n",
       "    </tr>\n",
       "    <tr>\n",
       "      <th>4</th>\n",
       "      <td>max</td>\n",
       "      <td>2008</td>\n",
       "      <td>2</td>\n",
       "      <td>31</td>\n",
       "      <td>954</td>\n",
       "      <td>YAK</td>\n",
       "      <td>YAK</td>\n",
       "      <td>2846</td>\n",
       "      <td>C</td>\n",
       "      <td>664</td>\n",
       "    </tr>\n",
       "  </tbody>\n",
       "</table>\n",
       "</div>"
      ],
      "text/plain": [
       "  summary   annee                mois             jours           flightNum  \\\n",
       "0   count   16830               16830             16830               16830   \n",
       "1    mean  2008.0  1.2436720142602495  13.3825311942959  354.79304812834226   \n",
       "2  stddev     0.0  0.4293098121645594  9.08538688270527  232.68555546399764   \n",
       "3     min    2008                   1                 1                   1   \n",
       "4     max    2008                   2                31                 954   \n",
       "\n",
       "  origin   dest           distance cancellationCode        carrierDelay  \n",
       "0  16830  16830              16830              457                3960  \n",
       "1   None   None  923.4129530600119             None  15.077272727272728  \n",
       "2   None   None  586.1537061300132             None   38.19684314978276  \n",
       "3    ADK    ADK                 31                A                   0  \n",
       "4    YAK    YAK               2846                C                 664  "
      ]
     },
     "execution_count": 11,
     "metadata": {},
     "output_type": "execute_result"
    }
   ],
   "source": [
    "## Deuxième méthode\n",
    "# Affichage d'un résumé en utilisant la méthode toPandas\n",
    "flights.describe().toPandas()"
   ]
  },
  {
   "cell_type": "markdown",
   "id": "ff2b1268-062e-4fed-b886-160f21d6904c",
   "metadata": {},
   "source": [
    "<div class=\"alert alert-info\">\n",
    "Pour ne pas avoir à passer du temps sur la troncature de données et se simplifier la tâche, il existe la méthode toPandas qui permet de transformer un DataFrame Spark de petite taille en DataFrame Pandas.\n",
    "La méthode toPandas est à utiliser avec des DataFrames de petite taille tels que des résumés d'informations, sinon elle peut affecter la distribution des données.\n",
    "</div>\n",
    "\n",
    "Dans la question précédente, la variable 'canceled' n'apparaît pas dans la description. De même, la description donne peu d'informations sur les variables catégorielles.\n",
    "\n",
    "Pour les variables qualitatives, il est plus intéressant de faire apparaître la fréquence des modalités. La méthode groupBy permet de grouper les données selon une variable puis d'y appliquer une transformation supplémentaire telle que count.\n",
    "\n",
    "* __(h)__ Résumer la variable cancellationCode en affichant le nombre d'observations de chaque modalité."
   ]
  },
  {
   "cell_type": "code",
   "execution_count": 12,
   "id": "ce73e430-b3d0-42af-8bd1-b9da3ee65a96",
   "metadata": {},
   "outputs": [
    {
     "name": "stdout",
     "output_type": "stream",
     "text": [
      "+----------------+-----+\n",
      "|cancellationCode|count|\n",
      "+----------------+-----+\n",
      "|            null|16373|\n",
      "|               B|  132|\n",
      "|               C|   26|\n",
      "|               A|  299|\n",
      "+----------------+-----+\n",
      "\n"
     ]
    }
   ],
   "source": [
    "# Affichage du résumé de la variable catégorielle 'cancellationCode'\n",
    "flights.groupBy('cancellationCode').count().show()"
   ]
  },
  {
   "cell_type": "markdown",
   "id": "cdec3937-bec5-4bd2-85ef-06e4067fa3b0",
   "metadata": {},
   "source": [
    "* __(i)__ Résumer ensemble les variables 'cancellationCode' et 'canceled' pour vérifier la cohérence entre ces deux variables."
   ]
  },
  {
   "cell_type": "code",
   "execution_count": 13,
   "id": "e71a41fb-254d-4a6c-bdb0-ed67418ac1e1",
   "metadata": {},
   "outputs": [
    {
     "name": "stdout",
     "output_type": "stream",
     "text": [
      "+----------------+--------+-----+\n",
      "|cancellationCode|canceled|count|\n",
      "+----------------+--------+-----+\n",
      "|               A|    true|  299|\n",
      "|               C|    true|   26|\n",
      "|               B|    true|  132|\n",
      "|            null|   false|16373|\n",
      "+----------------+--------+-----+\n",
      "\n"
     ]
    }
   ],
   "source": [
    "# Affichage du résumé de la variable catégorielle 'cancellationCode' et 'canceled'\n",
    "flights.groupBy('cancellationCode', 'canceled').count().show()"
   ]
  },
  {
   "cell_type": "markdown",
   "id": "606d6979-d3d1-4a12-8276-6dd335bfabb9",
   "metadata": {},
   "source": [
    "Une autre manière de sélectionner de variables est la méthode filter. Elle permet de filtrer les données par rapport à certaines conditions.\n",
    "\n",
    "__Exemple : Filtrage avec condition__\n",
    "\n",
    "```python\n",
    "df.filter( df.age < 20 )\n",
    "# renvoie un DataFrame contenant uniquement les individus de moins de 20 ans\n",
    "```\n",
    "\n",
    "* __(j)__ Afficher les premières lignes de flights ne contenant que les vols annulés pour la raison 'C'."
   ]
  },
  {
   "cell_type": "code",
   "execution_count": 14,
   "id": "12d7ca76-5623-437d-8683-62c46402cc16",
   "metadata": {},
   "outputs": [
    {
     "name": "stdout",
     "output_type": "stream",
     "text": [
      "+-----+----+-----+---------+------+----+--------+--------+----------------+------------+\n",
      "|annee|mois|jours|flightNum|origin|dest|distance|canceled|cancellationCode|carrierDelay|\n",
      "+-----+----+-----+---------+------+----+--------+--------+----------------+------------+\n",
      "| 2008|   1|    5|      345|   SFO| PDX|     550|    true|               C|        null|\n",
      "| 2008|   1|    8|      345|   SFO| PDX|     550|    true|               C|        null|\n",
      "| 2008|   1|    8|      526|   SEA| SFO|     679|    true|               C|        null|\n",
      "| 2008|   1|   10|      526|   SEA| SFO|     679|    true|               C|        null|\n",
      "| 2008|   1|   10|      345|   SFO| PDX|     550|    true|               C|        null|\n",
      "| 2008|   1|   11|      345|   SFO| PDX|     550|    true|               C|        null|\n",
      "| 2008|   1|   11|      526|   SEA| SFO|     679|    true|               C|        null|\n",
      "| 2008|   1|   22|      526|   SEA| SFO|     679|    true|               C|        null|\n",
      "| 2008|   1|   22|      345|   SFO| PDX|     550|    true|               C|        null|\n",
      "| 2008|   1|   25|      341|   SFO| PDX|     550|    true|               C|        null|\n",
      "| 2008|   1|   25|      378|   SFO| PSP|     421|    true|               C|        null|\n",
      "| 2008|   1|   25|      310|   PDX| SFO|     550|    true|               C|        null|\n",
      "| 2008|   1|   29|      341|   SFO| PDX|     550|    true|               C|        null|\n",
      "| 2008|   1|   29|       20|   SEA| ORD|    1721|    true|               C|        null|\n",
      "| 2008|   1|   29|       23|   ORD| SEA|    1721|    true|               C|        null|\n",
      "| 2008|   1|   31|      345|   SFO| PDX|     550|    true|               C|        null|\n",
      "| 2008|   1|   31|       22|   SEA| ORD|    1721|    true|               C|        null|\n",
      "| 2008|   1|   31|      131|   ORD| ANC|    2846|    true|               C|        null|\n",
      "| 2008|   1|   31|       28|   SEA| ORD|    1721|    true|               C|        null|\n",
      "| 2008|   1|   31|       29|   ORD| SEA|    1721|    true|               C|        null|\n",
      "+-----+----+-----+---------+------+----+--------+--------+----------------+------------+\n",
      "only showing top 20 rows\n",
      "\n"
     ]
    }
   ],
   "source": [
    "# Affichage des 20 premièrs vols annulés pour la raison \"C\"\n",
    "flights.filter(flights.cancellationCode == 'C').show()"
   ]
  },
  {
   "cell_type": "markdown",
   "id": "438372b5-8ebf-4583-ad1a-8094d7e28374",
   "metadata": {},
   "source": [
    "Filtrer et grouper les données est très important dans la manipulation des données. Ces étapes permettent de comprendre une base de données et d'en tirer des conclusions :\n",
    "\n",
    "* __(k)__ Quel est le mois où il y a le plus d'annulations de vols ?"
   ]
  },
  {
   "cell_type": "code",
   "execution_count": 15,
   "id": "9f0440c1-ebe5-4e7d-a86d-a2081d48ab90",
   "metadata": {},
   "outputs": [
    {
     "name": "stdout",
     "output_type": "stream",
     "text": [
      "+-----+----+-----+---------+------+----+--------+--------+----------------+------------+\n",
      "|annee|mois|jours|flightNum|origin|dest|distance|canceled|cancellationCode|carrierDelay|\n",
      "+-----+----+-----+---------+------+----+--------+--------+----------------+------------+\n",
      "| 2008|   1|    1|      154|   ANC| SEA|    1449|    true|               A|        null|\n",
      "| 2008|   1|    1|      327|   SNA| PDX|     859|    true|               A|        null|\n",
      "| 2008|   1|    1|      488|   PDX| SNA|     859|    true|               A|        null|\n",
      "| 2008|   1|    1|      464|   SEA| ONT|     956|    true|               A|        null|\n",
      "| 2008|   1|    1|      631|   LAS| SEA|     866|    true|               A|        null|\n",
      "+-----+----+-----+---------+------+----+--------+--------+----------------+------------+\n",
      "only showing top 5 rows\n",
      "\n"
     ]
    }
   ],
   "source": [
    "# 1ère méthode\n",
    "flights.filter((flights.cancellationCode == 'A') | \n",
    "               (flights.cancellationCode == 'B') |\n",
    "               (flights.cancellationCode == 'B')).show(5)"
   ]
  },
  {
   "cell_type": "code",
   "execution_count": 16,
   "id": "a80dc01e-4c97-44cb-8072-7fd9698adce8",
   "metadata": {},
   "outputs": [
    {
     "name": "stdout",
     "output_type": "stream",
     "text": [
      "+-----+----+-----+---------+------+----+--------+--------+----------------+------------+\n",
      "|annee|mois|jours|flightNum|origin|dest|distance|canceled|cancellationCode|carrierDelay|\n",
      "+-----+----+-----+---------+------+----+--------+--------+----------------+------------+\n",
      "| 2008|   1|    1|      154|   ANC| SEA|    1449|    true|               A|        null|\n",
      "| 2008|   1|    1|      327|   SNA| PDX|     859|    true|               A|        null|\n",
      "| 2008|   1|    1|      488|   PDX| SNA|     859|    true|               A|        null|\n",
      "| 2008|   1|    1|      464|   SEA| ONT|     956|    true|               A|        null|\n",
      "| 2008|   1|    1|      631|   LAS| SEA|     866|    true|               A|        null|\n",
      "+-----+----+-----+---------+------+----+--------+--------+----------------+------------+\n",
      "only showing top 5 rows\n",
      "\n"
     ]
    }
   ],
   "source": [
    "# 2ème méthode\n",
    "li = ['A', 'B', 'C']\n",
    "flights.filter(flights.cancellationCode.isin(li)).show(5)"
   ]
  },
  {
   "cell_type": "code",
   "execution_count": 18,
   "id": "bd9ce947-6247-4e3c-988f-a2939704373c",
   "metadata": {},
   "outputs": [
    {
     "name": "stdout",
     "output_type": "stream",
     "text": [
      "+----+-----+\n",
      "|mois|count|\n",
      "+----+-----+\n",
      "|   1|  355|\n",
      "|   2|  102|\n",
      "+----+-----+\n",
      "\n"
     ]
    }
   ],
   "source": [
    "# 3ème méthode => la meilleure\n",
    "flights.filter(flights.canceled == True).groupBy('mois').count().show()"
   ]
  },
  {
   "cell_type": "markdown",
   "id": "eaa4b8e1-b0d2-41c3-aa13-3e7291600f64",
   "metadata": {},
   "source": [
    "## 4. Création et aggrégation de variables"
   ]
  },
  {
   "cell_type": "markdown",
   "id": "8ba5a6c0-3c76-4e5a-bb06-9189213a54bd",
   "metadata": {},
   "source": [
    "La méthode withColumn permet de créer une nouvelle colonne :\n",
    "\n",
    "__Exemple : Création des colonnes ageInMonth et isMinor__\n",
    "\n",
    "```python\n",
    "df.withColumn( 'ageInMonth', df.age * 12) # Variable entière contenant l'âge d'une personne en mois\n",
    "df.withColumn( 'isMinor', df.age < 18 )   # Variable booléenne indiquant si une personne est mineure ou pas\n",
    "```\n",
    "\n",
    "* __(a)__ Créer une nouvelle variable booléenne 'isLongFlight' qui vaut True si le vol parcourt une distance supérieure à 1000 miles, ou False sinon.\n",
    "* __(b)__ Afficher les 10 premières lignes de flights."
   ]
  },
  {
   "cell_type": "code",
   "execution_count": 19,
   "id": "5664ea23-7b3e-4ce6-a3bc-6dc0e1e70b5f",
   "metadata": {},
   "outputs": [
    {
     "name": "stdout",
     "output_type": "stream",
     "text": [
      "+-----+----+-----+---------+------+----+--------+--------+----------------+------------+------------+\n",
      "|annee|mois|jours|flightNum|origin|dest|distance|canceled|cancellationCode|carrierDelay|isLongFlight|\n",
      "+-----+----+-----+---------+------+----+--------+--------+----------------+------------+------------+\n",
      "| 2008|   1|    1|      324|   SEA| SJC|     697|   false|            null|        null|       false|\n",
      "| 2008|   1|    1|      572|   SEA| PSP|     987|   false|            null|        null|       false|\n",
      "| 2008|   1|    1|      511|   SAN| SEA|    1050|   false|            null|           0|        true|\n",
      "| 2008|   1|    1|      376|   SEA| GEG|     224|   false|            null|        null|       false|\n",
      "| 2008|   1|    1|      729|   TUS| SEA|    1216|   false|            null|        null|        true|\n",
      "| 2008|   1|    1|      283|   LAX| SEA|     954|   false|            null|        null|       false|\n",
      "| 2008|   1|    1|      211|   LAX| SEA|     954|   false|            null|        null|       false|\n",
      "| 2008|   1|    1|      100|   ANC| PDX|    1542|   false|            null|           0|        true|\n",
      "| 2008|   1|    1|      665|   LAS| SEA|     866|   false|            null|        null|       false|\n",
      "| 2008|   1|    1|      531|   SJC| SEA|     697|   false|            null|        null|       false|\n",
      "+-----+----+-----+---------+------+----+--------+--------+----------------+------------+------------+\n",
      "only showing top 10 rows\n",
      "\n"
     ]
    }
   ],
   "source": [
    "# Création d'une nouvelle variable 'isLongFlight' et affichage des 10 premières lignes\n",
    "flights.withColumn('isLongFlight', flights.distance > 1000 ).show(10)"
   ]
  },
  {
   "cell_type": "markdown",
   "id": "d23325a0-dae1-4e61-8a1a-fc54ba77e430",
   "metadata": {},
   "source": [
    "<div class=\"alert alert-warning\">\n",
    "L'enregistrement de la nouvelle colonne ne s'effectue nulle part. A cause du caractère immuable, aucune modification ne se fait par remplacement (in place). Pour enregistrer une nouvelle variable, il faut créer un nouvel objet ou de la créer dès la création du DataFrame.\n",
    "</div>"
   ]
  },
  {
   "cell_type": "markdown",
   "id": "ffdf89af-9368-4071-ac90-ebef30ef2089",
   "metadata": {},
   "source": [
    "## 5. Gestion des valeurs manquantes"
   ]
  },
  {
   "cell_type": "markdown",
   "id": "5a24fdb1-0c3d-4b03-b986-88f4dafc907c",
   "metadata": {},
   "source": [
    "Les valeurs manquantes apparaissent comme null dans la base de données. Il existe des fonctions telles que dropna ou fillna, comme présenté dans le module Pandas, ayant la syntaxe suivante :\n",
    "\n",
    "```python\n",
    "df.fillna(newValue, 'columnName')\n",
    "```\n",
    "\n",
    "__Exemple : Remplacement des noms non renseignés par 'unknown' et des âges non renseignés par 23__\n",
    "\n",
    "```python\n",
    "df.fillna('unknown', 'name') # donne un nom 'unknown' aux inconnus\n",
    "df.fillna(23, 'age')         # assigne l’âge des personnes dont l’âge est inconnu à 23\n",
    "```\n",
    "\n",
    "* __(a)__ Remplacer les valeurs manquantes de 'carrierDelay' par des 0.\n",
    "* __(b)__ Afficher les 6 premières lignes de flights."
   ]
  },
  {
   "cell_type": "code",
   "execution_count": 20,
   "id": "d9f72c81-3f54-425a-aa77-499d537f430c",
   "metadata": {},
   "outputs": [
    {
     "name": "stdout",
     "output_type": "stream",
     "text": [
      "+-----+----+-----+---------+------+----+--------+--------+----------------+------------+\n",
      "|annee|mois|jours|flightNum|origin|dest|distance|canceled|cancellationCode|carrierDelay|\n",
      "+-----+----+-----+---------+------+----+--------+--------+----------------+------------+\n",
      "| 2008|   1|    1|      324|   SEA| SJC|     697|   false|            null|           0|\n",
      "| 2008|   1|    1|      572|   SEA| PSP|     987|   false|            null|           0|\n",
      "| 2008|   1|    1|      511|   SAN| SEA|    1050|   false|            null|           0|\n",
      "| 2008|   1|    1|      376|   SEA| GEG|     224|   false|            null|           0|\n",
      "| 2008|   1|    1|      729|   TUS| SEA|    1216|   false|            null|           0|\n",
      "| 2008|   1|    1|      283|   LAX| SEA|     954|   false|            null|           0|\n",
      "+-----+----+-----+---------+------+----+--------+--------+----------------+------------+\n",
      "only showing top 6 rows\n",
      "\n"
     ]
    }
   ],
   "source": [
    "# Remplacement des valeurs manquantes par des 0 et affichage des 6 premières lignes\n",
    "flights = flights.fillna(0, 'carrierDelay')\n",
    "flights.show(6)"
   ]
  },
  {
   "cell_type": "markdown",
   "id": "4922d4ac-4fdb-47ec-9488-6b8afffdfadf",
   "metadata": {},
   "source": [
    "Remplacer n'importe quelle valeur est également possible en utilisant la méthode replace avec l'une des syntaxes suivantes :\n",
    "\n",
    "```python\n",
    "df.replace(oldValue, newValue)\n",
    "# remplace sur l'ensemble de la base\n",
    "\n",
    "df.replace(oldValue, newValue, 'columnName')\n",
    "# remplace uniquement sur les colonnes spécifiées\n",
    "\n",
    "df.replace([oldValue1, oldValue2], [newValue1, newValue2], 'columnName')\n",
    "# si plusieurs valeurs à remplacer\n",
    "```\n",
    "    \n",
    "* __(c)__ Remplacer les codes d'annulation 'A','B','C' respectivement par '1', '2' et '3'."
   ]
  },
  {
   "cell_type": "code",
   "execution_count": 21,
   "id": "f0c25702-486a-42f1-8c26-e205372e2a9e",
   "metadata": {},
   "outputs": [
    {
     "name": "stdout",
     "output_type": "stream",
     "text": [
      "+-----+----+-----+---------+------+----+--------+--------+----------------+------------+\n",
      "|annee|mois|jours|flightNum|origin|dest|distance|canceled|cancellationCode|carrierDelay|\n",
      "+-----+----+-----+---------+------+----+--------+--------+----------------+------------+\n",
      "| 2008|   1|    1|      324|   SEA| SJC|     697|   false|            null|           0|\n",
      "| 2008|   1|    1|      572|   SEA| PSP|     987|   false|            null|           0|\n",
      "| 2008|   1|    1|      511|   SAN| SEA|    1050|   false|            null|           0|\n",
      "| 2008|   1|    1|      376|   SEA| GEG|     224|   false|            null|           0|\n",
      "| 2008|   1|    1|      729|   TUS| SEA|    1216|   false|            null|           0|\n",
      "| 2008|   1|    1|      283|   LAX| SEA|     954|   false|            null|           0|\n",
      "| 2008|   1|    1|      211|   LAX| SEA|     954|   false|            null|           0|\n",
      "| 2008|   1|    1|      100|   ANC| PDX|    1542|   false|            null|           0|\n",
      "| 2008|   1|    1|      665|   LAS| SEA|     866|   false|            null|           0|\n",
      "| 2008|   1|    1|      531|   SJC| SEA|     697|   false|            null|           0|\n",
      "| 2008|   1|    1|      571|   SEA| DEN|    1024|   false|            null|          22|\n",
      "| 2008|   1|    1|      154|   ANC| SEA|    1449|    true|               1|           0|\n",
      "| 2008|   1|    1|      728|   SEA| TUS|    1216|   false|            null|           0|\n",
      "| 2008|   1|    1|      518|   SEA| SAN|    1050|   false|            null|          92|\n",
      "| 2008|   1|    1|      580|   SEA| SAN|    1050|   false|            null|          21|\n",
      "| 2008|   1|    1|       85|   SEA| ANC|    1449|   false|            null|           0|\n",
      "| 2008|   1|    1|      640|   SEA| LAS|     866|   false|            null|           0|\n",
      "| 2008|   1|    1|      292|   SEA| LAX|     954|   false|            null|           0|\n",
      "| 2008|   1|    1|      478|   SEA| PSP|     987|   false|            null|          15|\n",
      "| 2008|   1|    1|      485|   LAX| SEA|     954|   false|            null|           0|\n",
      "+-----+----+-----+---------+------+----+--------+--------+----------------+------------+\n",
      "only showing top 20 rows\n",
      "\n"
     ]
    }
   ],
   "source": [
    "# Remplacement des codes d'annulation\n",
    "flights = flights.replace(['A','B','C'],['1','2','3'],'cancellationCode')\n",
    "flights.show()"
   ]
  },
  {
   "cell_type": "markdown",
   "id": "fdeb381e-36c5-44ff-ab2b-9cd27cdb590f",
   "metadata": {},
   "source": [
    "La fonction orderBy fonctionne comme pour le langage SQL. Appliquée à un DataFrame, elle permet de l'ordonner selon les valeurs d'une de ses variables.\n",
    "\n",
    "__Exemple : Ordonner df par âge croissant puis par âge décroissant__\n",
    "\n",
    "```python\n",
    "df.orderBy(df.age)\n",
    "# ordonne par la variable 'age'\n",
    "\n",
    "df.orderBy(df.age.desc())\n",
    "# ordonne de façon décroissante\n",
    "```\n",
    "\n",
    "* __(d)__ Afficher les premières lignes de la base de données ordonnées de façon décroissante par le numéro de vol."
   ]
  },
  {
   "cell_type": "code",
   "execution_count": 22,
   "id": "4f53fb83-64b0-4335-89a3-993e826eb176",
   "metadata": {},
   "outputs": [
    {
     "name": "stdout",
     "output_type": "stream",
     "text": [
      "+-----+----+-----+---------+------+----+--------+--------+----------------+------------+\n",
      "|annee|mois|jours|flightNum|origin|dest|distance|canceled|cancellationCode|carrierDelay|\n",
      "+-----+----+-----+---------+------+----+--------+--------+----------------+------------+\n",
      "| 2008|   1|   18|      954|   GEG| SEA|     224|    true|               1|           0|\n",
      "| 2008|   2|    7|      954|   GEG| SEA|     224|   false|            null|           0|\n",
      "| 2008|   1|   19|      954|   GEG| SEA|     224|   false|            null|           0|\n",
      "| 2008|   1|   27|      954|   GEG| SEA|     224|   false|            null|           0|\n",
      "| 2008|   2|    6|      954|   GEG| SEA|     224|   false|            null|           0|\n",
      "| 2008|   1|   28|      954|   GEG| SEA|     224|   false|            null|           0|\n",
      "| 2008|   1|   15|      954|   GEG| SEA|     224|   false|            null|           0|\n",
      "| 2008|   1|   29|      954|   GEG| SEA|     224|   false|            null|           0|\n",
      "| 2008|   1|   17|      954|   GEG| SEA|     224|   false|            null|           0|\n",
      "| 2008|   1|   30|      954|   GEG| SEA|     224|   false|            null|           0|\n",
      "| 2008|   1|   21|      954|   GEG| SEA|     224|   false|            null|           0|\n",
      "| 2008|   1|   31|      954|   GEG| SEA|     224|   false|            null|           7|\n",
      "| 2008|   1|   23|      954|   GEG| SEA|     224|   false|            null|          89|\n",
      "| 2008|   2|    1|      954|   GEG| SEA|     224|   false|            null|           0|\n",
      "| 2008|   1|   25|      954|   GEG| SEA|     224|   false|            null|          15|\n",
      "| 2008|   2|    2|      954|   GEG| SEA|     224|   false|            null|           0|\n",
      "| 2008|   1|   14|      954|   GEG| SEA|     224|   false|            null|           0|\n",
      "| 2008|   2|    3|      954|   GEG| SEA|     224|   false|            null|           0|\n",
      "| 2008|   1|   20|      954|   GEG| SEA|     224|   false|            null|           0|\n",
      "| 2008|   2|    4|      954|   GEG| SEA|     224|   false|            null|           0|\n",
      "+-----+----+-----+---------+------+----+--------+--------+----------------+------------+\n",
      "only showing top 20 rows\n",
      "\n"
     ]
    }
   ],
   "source": [
    "# Ordonner le data frame par numéro de vol décroissant\n",
    "flights = flights.orderBy(flights.flightNum.desc())\n",
    "flights.show()"
   ]
  },
  {
   "cell_type": "markdown",
   "id": "8d1d64c8-8b0e-40e0-879f-ae73304d8947",
   "metadata": {},
   "source": [
    "## 6. Requêtes SQL"
   ]
  },
  {
   "cell_type": "markdown",
   "id": "31c6d29f-5d90-49bd-91a8-e4edb8b89bf7",
   "metadata": {},
   "source": [
    "Spark SQL permet également d'utiliser le langage SQL. Il est possible de faire fonctionner PySpark à l'aide de la méthode sql.\n",
    "\n",
    "<div class=\"alert alert-warning\">\n",
    "Utiliser la méthode sql est plus lent que les méthodes ci-dessus et peut entraîner un temps de calcul significativement plus long sur des bases de données massives. La documentation de pyspark-sql contient tous les concepts SQL non évoqués jusqu'ici.\n",
    "</div>\n",
    "\n",
    "La première étape consiste à créer une vue SQL (SQL view), référencée dans le code SQL grâce à la méthode createOrReplaceTempView.\n",
    "\n",
    "__Exemple : Création d'une vue et utilisation de la méthode SQL pour envoyer une requête__\n",
    "\n",
    "```python\n",
    "df.createOrReplaceTempView(\"people\")\n",
    "sqlDF = spark.sql(\"SELECT * FROM people\")\n",
    "```\n",
    "\n",
    "* __(a)__ Créer une vue SQL de flights que l'on appellera \"flightsView\".\n",
    "* __(b)__ Créer un DataFrame appelé sqlDF contenant uniquement la variable carrierDelay grâce à une requête SQL.\n",
    "* __(c)__ Afficher les premières lignes de sqlDF."
   ]
  },
  {
   "cell_type": "code",
   "execution_count": 23,
   "id": "87d87f8e-e526-4336-a44f-5b90ffb53f66",
   "metadata": {},
   "outputs": [
    {
     "name": "stdout",
     "output_type": "stream",
     "text": [
      "+------------+\n",
      "|carrierDelay|\n",
      "+------------+\n",
      "|           0|\n",
      "|           0|\n",
      "|           0|\n",
      "|           0|\n",
      "|           0|\n",
      "|           0|\n",
      "|          89|\n",
      "|           0|\n",
      "|          36|\n",
      "|           0|\n",
      "+------------+\n",
      "only showing top 10 rows\n",
      "\n"
     ]
    }
   ],
   "source": [
    "# Création d'une vue SQL\n",
    "flights.createOrReplaceTempView(\"flightsView\")\n",
    "\n",
    "# Création d'un DataFrame ne contenant que la variable \"flightsView\"\n",
    "sqlDF = spark.sql(\"SELECT carrierDelay FROM flightsView\")\n",
    "\n",
    "# Affichage des 10 premières lignes\n",
    "sqlDF.show(10)"
   ]
  },
  {
   "cell_type": "markdown",
   "id": "e12bf08d-cf09-44af-9b74-760d69325226",
   "metadata": {},
   "source": [
    "## 7. Sample & astuces d'affichage"
   ]
  },
  {
   "cell_type": "markdown",
   "id": "839e3a3e-edec-4766-8b40-537cc20e179c",
   "metadata": {},
   "source": [
    "L'inconvénient de la méthode show est qu'elle a un mauvais rendu lorsqu'une base de données contient un grand nombre de variables. Il est possible d'utiliser la méthode toPandas pour corriger ce problème.\n",
    "\n",
    "Cette méthode ne fonctionne que sur une base de données de petite taille.\n",
    "\n",
    "Pour cela, la méthode sample renvoie un extrait des données en prenant essentiellement 3 arguments :\n",
    "* withReplacement : un booléen qui vaut False si l'on veut un tirage sans remise et True si l'on veut un tirage avec.\n",
    "* fraction : la fraction des données à conserver.\n",
    "* seed : un entier quelconque qui permet de reproduire les résultats: pour un même seed, une fonction, bien qu'aléatoire, donnera toujours les mêmes résultats.\n",
    "\n",
    "__Exemple : Un extrait du DataFrame contenant 1% des données aléatoirement choisies__\n",
    "\n",
    "```python\n",
    "df.sample(False, .01, seed = 1234)\n",
    "```\n",
    "\n",
    "* __(a)__ Afficher, de façon élégante, une dizaine de lignes de la base de données."
   ]
  },
  {
   "cell_type": "code",
   "execution_count": 24,
   "id": "445ff3ca-d803-4e28-954c-52998bf6e9df",
   "metadata": {},
   "outputs": [
    {
     "data": {
      "text/html": [
       "<div>\n",
       "<style scoped>\n",
       "    .dataframe tbody tr th:only-of-type {\n",
       "        vertical-align: middle;\n",
       "    }\n",
       "\n",
       "    .dataframe tbody tr th {\n",
       "        vertical-align: top;\n",
       "    }\n",
       "\n",
       "    .dataframe thead th {\n",
       "        text-align: right;\n",
       "    }\n",
       "</style>\n",
       "<table border=\"1\" class=\"dataframe\">\n",
       "  <thead>\n",
       "    <tr style=\"text-align: right;\">\n",
       "      <th></th>\n",
       "      <th>annee</th>\n",
       "      <th>mois</th>\n",
       "      <th>jours</th>\n",
       "      <th>flightNum</th>\n",
       "      <th>origin</th>\n",
       "      <th>dest</th>\n",
       "      <th>distance</th>\n",
       "      <th>canceled</th>\n",
       "      <th>cancellationCode</th>\n",
       "      <th>carrierDelay</th>\n",
       "    </tr>\n",
       "  </thead>\n",
       "  <tbody>\n",
       "    <tr>\n",
       "      <th>0</th>\n",
       "      <td>2008</td>\n",
       "      <td>2</td>\n",
       "      <td>10</td>\n",
       "      <td>153</td>\n",
       "      <td>ANC</td>\n",
       "      <td>OTZ</td>\n",
       "      <td>549</td>\n",
       "      <td>False</td>\n",
       "      <td>None</td>\n",
       "      <td>0</td>\n",
       "    </tr>\n",
       "    <tr>\n",
       "      <th>1</th>\n",
       "      <td>2008</td>\n",
       "      <td>2</td>\n",
       "      <td>4</td>\n",
       "      <td>130</td>\n",
       "      <td>ANC</td>\n",
       "      <td>ORD</td>\n",
       "      <td>2846</td>\n",
       "      <td>False</td>\n",
       "      <td>None</td>\n",
       "      <td>0</td>\n",
       "    </tr>\n",
       "    <tr>\n",
       "      <th>2</th>\n",
       "      <td>2008</td>\n",
       "      <td>1</td>\n",
       "      <td>15</td>\n",
       "      <td>119</td>\n",
       "      <td>SEA</td>\n",
       "      <td>ANC</td>\n",
       "      <td>1449</td>\n",
       "      <td>False</td>\n",
       "      <td>None</td>\n",
       "      <td>0</td>\n",
       "    </tr>\n",
       "  </tbody>\n",
       "</table>\n",
       "</div>"
      ],
      "text/plain": [
       "   annee  mois  jours  flightNum origin dest  distance  canceled  \\\n",
       "0   2008     2     10        153    ANC  OTZ       549     False   \n",
       "1   2008     2      4        130    ANC  ORD      2846     False   \n",
       "2   2008     1     15        119    SEA  ANC      1449     False   \n",
       "\n",
       "  cancellationCode  carrierDelay  \n",
       "0             None             0  \n",
       "1             None             0  \n",
       "2             None             0  "
      ]
     },
     "execution_count": 24,
     "metadata": {},
     "output_type": "execute_result"
    }
   ],
   "source": [
    "# Affichage d'un dizaine de lignes de la base de données\n",
    "flights.sample(False, .0001, seed = 222).toPandas()"
   ]
  },
  {
   "cell_type": "markdown",
   "id": "9882046f-8209-4a47-9d6a-130704936514",
   "metadata": {},
   "source": [
    "<div class=\"alert alert-success\">\n",
    "La méthode sample n'est pas simplement utile pour l'affichage, elle est également importante pour tester différentes méthodes lorsque la puissance de calcul disponible est trop faible.\n",
    "</div>\n",
    "\n",
    "* __(b)__ Fermer la session spark en utilisant la méthode stop"
   ]
  },
  {
   "cell_type": "code",
   "execution_count": 25,
   "id": "08881f14-5b9c-4020-822e-ec4c6d3aa444",
   "metadata": {},
   "outputs": [],
   "source": [
    "# Fermeture de la session Spark\n",
    "spark.stop()"
   ]
  },
  {
   "cell_type": "markdown",
   "id": "964a203b-6b77-4b22-a81f-5615f1228b49",
   "metadata": {},
   "source": [
    "Vous avez maintenant toutes les clés nécessaires en main pour effectuer de l'exploration de données avec une performance optimale grâce à PySpark. Vous êtes donc prêt à aborder Spark ML, le module permettant de programmer des algorithmes de Machine Learning utilisant la structure DataFrame."
   ]
  },
  {
   "cell_type": "code",
   "execution_count": null,
   "id": "e45634c0-36aa-4c48-beeb-babdec707756",
   "metadata": {},
   "outputs": [],
   "source": []
  }
 ],
 "metadata": {
  "kernelspec": {
   "display_name": "Python 3 (ipykernel)",
   "language": "python",
   "name": "python3"
  },
  "language_info": {
   "codemirror_mode": {
    "name": "ipython",
    "version": 3
   },
   "file_extension": ".py",
   "mimetype": "text/x-python",
   "name": "python",
   "nbconvert_exporter": "python",
   "pygments_lexer": "ipython3",
   "version": "3.9.7"
  }
 },
 "nbformat": 4,
 "nbformat_minor": 5
}
