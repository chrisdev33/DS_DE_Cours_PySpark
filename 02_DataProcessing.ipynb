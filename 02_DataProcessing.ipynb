{
 "cells": [
  {
   "cell_type": "markdown",
   "id": "2b689242-f6f1-47c5-96a3-f524737076ab",
   "metadata": {},
   "source": [
    "Traitement de données massives avec Pyspark\n",
    "========\n",
    "Introduction à PySpark \n",
    "--------\n",
    "- - - -"
   ]
  },
  {
   "cell_type": "markdown",
   "id": "7344f182-97d3-401e-a185-6f9950f00557",
   "metadata": {},
   "source": [
    "La structure RDD que nous avons étudiée est importante. Cependant, lorsqu'il s'agit de gérer des bases de données structurées (organisées en colonnes), nous verrons qu'il existe une structure plus optimale. Les RDDs sont néanmoins extrêmement performants devant un problème non structuré tel qu'un texte.\n",
    "\n",
    "Dans cet exercice, nous allons utiliser la structure RDD pour une base de données non structurée : l'intégrale des Misérables de Victor Hugo. L'objectif est de construire un simple WordCount comptant le nombre d'occurrences de chaque mot, pour approfondir et mettre en pratique vos compétences en RDD et map reduce.\n",
    "\n",
    "Pour cet exercice, nous considérons un fichier texte contenant l'intégralité des Misérables de Victor Hugo."
   ]
  },
  {
   "cell_type": "markdown",
   "id": "b30a7ea2-37f6-403d-a8eb-dbdbbfec1933",
   "metadata": {},
   "source": [
    "## 1. Création d'un SparkContext"
   ]
  },
  {
   "cell_type": "code",
   "execution_count": 1,
   "id": "4de93ac6-4cc5-4298-9aaf-08fa69387ee4",
   "metadata": {},
   "outputs": [],
   "source": [
    "# Import de SparkContext du module pyspark\n",
    "from pyspark import SparkContext\n",
    "\n",
    "# Défintion d'un SparkContext\n",
    "sc = SparkContext.getOrCreate()"
   ]
  },
  {
   "cell_type": "markdown",
   "id": "3f04df1c-7032-4976-91a7-e44d78b1c937",
   "metadata": {},
   "source": [
    "## 2. Importation de la base de données"
   ]
  },
  {
   "cell_type": "markdown",
   "id": "9065d0da-733e-432c-af9f-a22a94abed4f",
   "metadata": {},
   "source": [
    "* (a) Importer le fichier miserables_full.txt dans un RDD nommé miserables.<br>\n",
    "* (b) Afficher les 10 premières lignes du RDD."
   ]
  },
  {
   "cell_type": "code",
   "execution_count": 2,
   "id": "da9511a0-7f6d-423b-90b3-b12e2953dfa2",
   "metadata": {},
   "outputs": [
    {
     "data": {
      "text/plain": [
       "['The Project Gutenberg EBook of Les misérables Tome I, by Victor Hugo',\n",
       " '',\n",
       " 'This eBook is for the use of anyone anywhere at no cost and with',\n",
       " 'almost no restrictions whatsoever.  You may copy it, give it away or',\n",
       " 're-use it under the terms of the Project Gutenberg License included',\n",
       " 'with this eBook or online at www.gutenberg.org',\n",
       " '',\n",
       " '',\n",
       " 'Title: Les misérables Tome I',\n",
       " '       Fantine']"
      ]
     },
     "execution_count": 2,
     "metadata": {},
     "output_type": "execute_result"
    }
   ],
   "source": [
    "# Chargement du fichier \"miserables_full.txt\" et affichage des 10 premières lignes\n",
    "miserables = sc.textFile(\"data/miserables_tome1.txt\")\n",
    "miserables.take(10)"
   ]
  },
  {
   "cell_type": "markdown",
   "id": "965c3f89-f429-4d23-b114-174c95aaf074",
   "metadata": {},
   "source": [
    "## 3. Mise en forme de la base"
   ]
  },
  {
   "cell_type": "markdown",
   "id": "19133c2c-1aba-4879-923c-ff96f0aba36e",
   "metadata": {},
   "source": [
    "* Pour compter le nombre d'occurrences d'un mot, il faut mettre tous les mots en forme de la même façon :\n",
    "    * Mettre toutes les lettres en minuscule grâce à la méthode lower des chaînes des caractères.\n",
    "    * Remplacer la ponctuation collée aux mots ( .  ,  -  ' ) par des espaces grâce à la méthode replace des chaînes de caractères, qui s'applique de la façon suivante : <code>str.replace(',', ' ')</code><br>\n",
    "\n",
    "\n",
    "* (a) Créer un RDD nommé miserables_clean, qui contient le texte des Misérables en minuscule et sans ponctuation à l'aide des méthodes map, lower et replace."
   ]
  },
  {
   "cell_type": "code",
   "execution_count": 3,
   "id": "792f0fc7-de63-4fab-aed3-7b8ed33f79d5",
   "metadata": {},
   "outputs": [],
   "source": [
    "# Création d'un RDD nettoyé\n",
    "miserables_clean = miserables.map(lambda x : x.lower().replace(',', ' ').replace('.', ' ').replace('-', ' ').replace('’', ' '))"
   ]
  },
  {
   "cell_type": "markdown",
   "id": "c4ef87c8-7d94-458b-b41b-4151340b54f9",
   "metadata": {},
   "source": [
    "Maintenant que tous les mots sont bien séparés par des espaces, il est possible utiliser la méthode split pour séparer les mots de chaque ligne.\n",
    "\n",
    "Il est possible d'utiliser la méthode map mais le problème ici sera que map crée une liste de listes.\n",
    "\n",
    "En effet, un split transforme chaque ligne en liste et la base de données étant une liste de lignes, le résultat final sera une liste de listes. Dans ce cas, il est coûteux de comparer un même mot sur deux lignes différentes car ils sont tous les deux dans des listes différentes.\n",
    "\n",
    "Pour pallier ce problème, il existe une méthode flatMap, qui s'utilise exactement de la même façon que map, à la différence que le résultat final est un RDD à une seule dimension.\n",
    "\n",
    "* (b) Créer un RDD nommé miserables_flat qui contient l'ensemble des mots sous une seule dimension."
   ]
  },
  {
   "cell_type": "code",
   "execution_count": 4,
   "id": "9d58b422-387c-4ea7-b3eb-25a2d28d7918",
   "metadata": {},
   "outputs": [
    {
     "data": {
      "text/plain": [
       "['the',\n",
       " 'project',\n",
       " 'gutenberg',\n",
       " 'ebook',\n",
       " 'of',\n",
       " 'les',\n",
       " 'misérables',\n",
       " 'tome',\n",
       " 'i',\n",
       " '']"
      ]
     },
     "execution_count": 4,
     "metadata": {},
     "output_type": "execute_result"
    }
   ],
   "source": [
    "# Création d'un RDD séparant les mots\n",
    "miserables_flat = miserables_clean.flatMap(lambda line: line.split(\" \"))\n",
    "miserables_flat.take(10)"
   ]
  },
  {
   "cell_type": "markdown",
   "id": "3b08825b-082f-4ff0-aef1-f8d72bdeb334",
   "metadata": {},
   "source": [
    "# 4. Map-Reduce"
   ]
  },
  {
   "cell_type": "markdown",
   "id": "62f3113b-7a06-4485-8947-55953cc8f423",
   "metadata": {},
   "source": [
    "* (a) À partir de miserables_flat, créer un RDD mots contenant l'ensemble des couples (mot, nb_occurences) à l'aide des méthodes map et reduceByKey."
   ]
  },
  {
   "cell_type": "code",
   "execution_count": 5,
   "id": "eaf89948-6abd-4b08-b60c-7dd142538f5e",
   "metadata": {},
   "outputs": [],
   "source": [
    "# création d'un RDD contenant l'ensemble des couples (mot, nb_occurences) \n",
    "mots = miserables_flat.map(lambda x : (x,1)) \\\n",
    "                      .reduceByKey(lambda x,y : x + y)"
   ]
  },
  {
   "cell_type": "markdown",
   "id": "0260cc17-eb91-40ea-989c-ef47fd2abd32",
   "metadata": {},
   "source": [
    "<div class=\"alert alert-info\" role=\"alert\">\n",
    "Pour compter le nombre d'occurrences d'un élément, une technique consiste à :\n",
    "- Utiliser la méthode map pour créer un couple clé/valeur où chaque mot est une clé, chaque valeur vaut 1.\n",
    "- Utiliser reduceByKey pour additionner les valeurs pour chaque mot.\n",
    "</div>\n",
    "\n",
    "* (b) Créer une liste contenant les couples (mot, occurrence) ordonnée dans l'ordre croissant des occurrences."
   ]
  },
  {
   "cell_type": "code",
   "execution_count": 6,
   "id": "eb6bac17-b85c-4b90-9983-2b22fa4b2b6a",
   "metadata": {},
   "outputs": [],
   "source": [
    "### Première méthode de tri\n",
    "\n",
    "# Tri en utilisant la fonction 'sorted' des RDD\n",
    "mots_sorted  = sorted(mots.collect(),\n",
    "                     key= lambda x: x[1],\n",
    "                     reverse= 0)\n",
    "\n",
    "### Deuxième méthode de tri\n",
    "\n",
    "# Tri en utilisant la fonction 'sortBy' des RDD puis convertir en liste en utilisant collect\n",
    "mots_sorted_2 = mots.sortBy(lambda couple: couple[1], ascending = True) \\\n",
    "                    .collect()"
   ]
  },
  {
   "cell_type": "markdown",
   "id": "90de2b32-85af-4532-b929-07db25df5971",
   "metadata": {},
   "source": [
    "## 5. Succession de méthodes"
   ]
  },
  {
   "cell_type": "code",
   "execution_count": 8,
   "id": "675b03e1-f8ad-41dc-b379-db1f2092e6bc",
   "metadata": {},
   "outputs": [
    {
     "name": "stdout",
     "output_type": "stream",
     "text": [
      "[('author:', 1), ('date:', 1), ('january', 1), ('last', 1), ('july', 1), ('language:', 1), ('parlement', 1), (\"d'aix;\", 1), ('hériter', 1), ('usage', 1)]\n"
     ]
    }
   ],
   "source": [
    "# Création d'une liste à partir du fichier texte\n",
    "mots_sorted_3 = sc.textFile(\"data/miserables_tome1.txt\") \\\n",
    "                  .map(lambda x : x.lower().replace(',', ' ').replace('.', ' ').replace('-', ' ').replace('’', ' ')) \\\n",
    "                  .flatMap(lambda line: line.split(\" \")) \\\n",
    "                  .map(lambda x : (x,1)) \\\n",
    "                  .reduceByKey(lambda x,y : x + y) \\\n",
    "                  .sortBy(lambda couple: couple[1], ascending = True) \\\n",
    "                  .collect()\n",
    "                \n",
    "print(mots_sorted_3[:10])"
   ]
  },
  {
   "cell_type": "markdown",
   "id": "010f2e10-b65b-46f9-8775-21de96dbd550",
   "metadata": {},
   "source": [
    "* __(b)__ Fermer le SparkContext sc."
   ]
  },
  {
   "cell_type": "code",
   "execution_count": 9,
   "id": "1373bfcb-1a22-4f89-bf20-8c2d0a604b56",
   "metadata": {},
   "outputs": [],
   "source": [
    "# Fermeture du SparkContext\n",
    "sc.stop()"
   ]
  },
  {
   "cell_type": "code",
   "execution_count": null,
   "id": "62b5822e-92dd-4d93-85d1-e97abc8cd0ad",
   "metadata": {},
   "outputs": [],
   "source": []
  }
 ],
 "metadata": {
  "kernelspec": {
   "display_name": "Python 3 (ipykernel)",
   "language": "python",
   "name": "python3"
  },
  "language_info": {
   "codemirror_mode": {
    "name": "ipython",
    "version": 3
   },
   "file_extension": ".py",
   "mimetype": "text/x-python",
   "name": "python",
   "nbconvert_exporter": "python",
   "pygments_lexer": "ipython3",
   "version": "3.9.7"
  }
 },
 "nbformat": 4,
 "nbformat_minor": 5
}
